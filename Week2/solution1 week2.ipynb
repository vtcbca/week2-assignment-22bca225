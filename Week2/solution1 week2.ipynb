{
 "cells": [
  {
   "cell_type": "code",
   "execution_count": 1,
   "id": "fd9ce107",
   "metadata": {},
   "outputs": [],
   "source": [
    "import sqlite3 as sq"
   ]
  },
  {
   "cell_type": "code",
   "execution_count": 2,
   "id": "6de0dcf6",
   "metadata": {},
   "outputs": [],
   "source": [
    "con=sq.connect('student.db')"
   ]
  },
  {
   "cell_type": "code",
   "execution_count": 3,
   "id": "716cf554",
   "metadata": {},
   "outputs": [],
   "source": [
    "cur=con.cursor()"
   ]
  },
  {
   "cell_type": "code",
   "execution_count": 4,
   "id": "3125a289",
   "metadata": {},
   "outputs": [],
   "source": [
    "table1=\"Create table if not exists stud(sid int primary key,sname text NOT NULL)\""
   ]
  },
  {
   "cell_type": "code",
   "execution_count": 5,
   "id": "748a085e",
   "metadata": {},
   "outputs": [
    {
     "data": {
      "text/plain": [
       "<sqlite3.Cursor at 0x245ab314040>"
      ]
     },
     "execution_count": 5,
     "metadata": {},
     "output_type": "execute_result"
    }
   ],
   "source": [
    "cur.execute(table1)"
   ]
  },
  {
   "cell_type": "code",
   "execution_count": 6,
   "id": "86e707f9",
   "metadata": {},
   "outputs": [],
   "source": [
    "table2=\"create table if not exists stud_detail(sid references stud(sid),city text NOT NULL, mobno int)\""
   ]
  },
  {
   "cell_type": "code",
   "execution_count": 7,
   "id": "341963e1",
   "metadata": {},
   "outputs": [
    {
     "data": {
      "text/plain": [
       "<sqlite3.Cursor at 0x245ab314040>"
      ]
     },
     "execution_count": 7,
     "metadata": {},
     "output_type": "execute_result"
    }
   ],
   "source": [
    "cur.execute(table2)"
   ]
  },
  {
   "cell_type": "code",
   "execution_count": 8,
   "id": "650bf39a",
   "metadata": {},
   "outputs": [],
   "source": [
    "con.commit()"
   ]
  },
  {
   "cell_type": "code",
   "execution_count": 14,
   "id": "26d0365f",
   "metadata": {},
   "outputs": [],
   "source": [
    "insert1=\"insert into stud values(01,'DEV2'),(02,'MIHIR'),(03,'YASH'),(04,'SUNNY'),(05,'FENIL'),(06,'SUJAL'),(07,'MEGH'),(08,'KENIL'),(09,'ABHI'),(10,'JASH')\""
   ]
  },
  {
   "cell_type": "code",
   "execution_count": 15,
   "id": "7cdcb907",
   "metadata": {},
   "outputs": [
    {
     "data": {
      "text/plain": [
       "<sqlite3.Cursor at 0x245ab314040>"
      ]
     },
     "execution_count": 15,
     "metadata": {},
     "output_type": "execute_result"
    }
   ],
   "source": [
    "cur.execute(insert1)"
   ]
  },
  {
   "cell_type": "code",
   "execution_count": 20,
   "id": "8577b597",
   "metadata": {},
   "outputs": [],
   "source": [
    "insert2=\"insert into stud_detail values(01,'surat',9977855443),(02,'vyara',9956890456),(03,'bardoli',9876545678),(04,'kamrej',9988675431),(05,'bardoli',9134821289),(06,'kamrej',7388821882),(07,'vyara',6609878901),(08,'bardoli',9687050900),(09,'bardoli',9956789076),(10,'mangrol',2206578901)\""
   ]
  },
  {
   "cell_type": "code",
   "execution_count": 21,
   "id": "b717848e",
   "metadata": {},
   "outputs": [
    {
     "data": {
      "text/plain": [
       "<sqlite3.Cursor at 0x245ab314040>"
      ]
     },
     "execution_count": 21,
     "metadata": {},
     "output_type": "execute_result"
    }
   ],
   "source": [
    "cur.execute(insert2)"
   ]
  },
  {
   "cell_type": "code",
   "execution_count": 22,
   "id": "5aea8c55",
   "metadata": {},
   "outputs": [],
   "source": [
    "con.commit()"
   ]
  },
  {
   "cell_type": "code",
   "execution_count": 23,
   "id": "ab7bf8b9",
   "metadata": {},
   "outputs": [],
   "source": [
    "sel1=\"select * from stud_detail where city='surat'\""
   ]
  },
  {
   "cell_type": "code",
   "execution_count": 24,
   "id": "bd0a6d81",
   "metadata": {},
   "outputs": [
    {
     "data": {
      "text/plain": [
       "<sqlite3.Cursor at 0x245ab314040>"
      ]
     },
     "execution_count": 24,
     "metadata": {},
     "output_type": "execute_result"
    }
   ],
   "source": [
    "cur.execute(sel1)"
   ]
  },
  {
   "cell_type": "code",
   "execution_count": 25,
   "id": "558010ed",
   "metadata": {},
   "outputs": [
    {
     "data": {
      "text/plain": [
       "[(1, 'surat', 9977855443)]"
      ]
     },
     "execution_count": 25,
     "metadata": {},
     "output_type": "execute_result"
    }
   ],
   "source": [
    "cur.fetchall()"
   ]
  },
  {
   "cell_type": "code",
   "execution_count": 26,
   "id": "1d1d1c5f",
   "metadata": {},
   "outputs": [],
   "source": [
    "con.commit()"
   ]
  },
  {
   "cell_type": "code",
   "execution_count": 27,
   "id": "a9eac8be",
   "metadata": {},
   "outputs": [],
   "source": [
    "sel2=\"select * from stud_detail where city LIKE 'B%'\""
   ]
  },
  {
   "cell_type": "code",
   "execution_count": 28,
   "id": "cbfd0f60",
   "metadata": {},
   "outputs": [
    {
     "data": {
      "text/plain": [
       "<sqlite3.Cursor at 0x245ab314040>"
      ]
     },
     "execution_count": 28,
     "metadata": {},
     "output_type": "execute_result"
    }
   ],
   "source": [
    "cur.execute(sel2)"
   ]
  },
  {
   "cell_type": "code",
   "execution_count": 29,
   "id": "76dbbb94",
   "metadata": {},
   "outputs": [
    {
     "data": {
      "text/plain": [
       "[(3, 'bardoli', 9876545678),\n",
       " (5, 'bardoli', 9134821289),\n",
       " (8, 'bardoli', 9687050900),\n",
       " (9, 'bardoli', 9956789076)]"
      ]
     },
     "execution_count": 29,
     "metadata": {},
     "output_type": "execute_result"
    }
   ],
   "source": [
    "cur.fetchall()"
   ]
  },
  {
   "cell_type": "code",
   "execution_count": 8,
   "id": "d9dd1097",
   "metadata": {},
   "outputs": [],
   "source": [
    "upd=\"update stud_detail set mobno=9947758901 where city='surat' and sid=101\""
   ]
  },
  {
   "cell_type": "code",
   "execution_count": 12,
   "id": "fef8bb0a",
   "metadata": {},
   "outputs": [
    {
     "ename": "NameError",
     "evalue": "name 'cur' is not defined",
     "output_type": "error",
     "traceback": [
      "\u001b[1;31m---------------------------------------------------------------------------\u001b[0m",
      "\u001b[1;31mNameError\u001b[0m                                 Traceback (most recent call last)",
      "Cell \u001b[1;32mIn[12], line 1\u001b[0m\n\u001b[1;32m----> 1\u001b[0m \u001b[43mcur\u001b[49m\u001b[38;5;241m.\u001b[39mexecute(upd)\n",
      "\u001b[1;31mNameError\u001b[0m: name 'cur' is not defined"
     ]
    }
   ],
   "source": [
    "cur.execute(upd)"
   ]
  },
  {
   "cell_type": "code",
   "execution_count": 32,
   "id": "5bc2df4f",
   "metadata": {},
   "outputs": [],
   "source": [
    "con.commit()"
   ]
  },
  {
   "cell_type": "code",
   "execution_count": 33,
   "id": "042397cc",
   "metadata": {},
   "outputs": [],
   "source": [
    "cur.close()"
   ]
  },
  {
   "cell_type": "code",
   "execution_count": null,
   "id": "a22e763b",
   "metadata": {},
   "outputs": [],
   "source": []
  }
 ],
 "metadata": {
  "kernelspec": {
   "display_name": "Python 3 (ipykernel)",
   "language": "python",
   "name": "python3"
  },
  "language_info": {
   "codemirror_mode": {
    "name": "ipython",
    "version": 3
   },
   "file_extension": ".py",
   "mimetype": "text/x-python",
   "name": "python",
   "nbconvert_exporter": "python",
   "pygments_lexer": "ipython3",
   "version": "3.11.4"
  }
 },
 "nbformat": 4,
 "nbformat_minor": 5
}
