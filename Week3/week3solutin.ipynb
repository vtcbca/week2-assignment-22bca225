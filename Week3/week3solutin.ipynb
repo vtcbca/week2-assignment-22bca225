{
 "cells": [
  {
   "cell_type": "code",
   "execution_count": 1,
   "id": "d022f341",
   "metadata": {},
   "outputs": [],
   "source": [
    "import sqlite3"
   ]
  },
  {
   "cell_type": "code",
   "execution_count": 2,
   "id": "56607135",
   "metadata": {},
   "outputs": [],
   "source": [
    "con=sqlite3.connect('ESM.db')"
   ]
  },
  {
   "cell_type": "code",
   "execution_count": 3,
   "id": "3fa7882c",
   "metadata": {},
   "outputs": [],
   "source": [
    "cur=con.cursor()"
   ]
  },
  {
   "cell_type": "code",
   "execution_count": 4,
   "id": "365411bc",
   "metadata": {},
   "outputs": [],
   "source": [
    "def create_table():\n",
    "    q=\"create table Employee (eid int PRIMARY KEY, ename text, dept text, basic int, branch text)\"\n",
    "    cur.execute(q)\n",
    "    con.commit()"
   ]
  },
  {
   "cell_type": "code",
   "execution_count": 5,
   "id": "c1662dcd",
   "metadata": {},
   "outputs": [],
   "source": [
    "def insert_records_directly():\n",
    "    q=\"insert into Employee values(?,?,?,?,?)\"\n",
    "    l=[(1,'om',' Account',5000,'Surat'),(2,'sai','HR', 5600, 'Mumbai'),(3,'ram','Account', 6000, 'Bangalore'),\n",
    "       (4,'anil','IT', 6200, 'Delhi'),(5,'sunil','Inventory', 4500, 'Surat')]\n",
    "    cur.executemany(q,l)\n",
    "    con.commit()"
   ]
  },
  {
   "cell_type": "code",
   "execution_count": 6,
   "id": "0ad70f53",
   "metadata": {},
   "outputs": [],
   "source": [
    "def insert_records_user():\n",
    "    q=\"insert into Employee values(?,?,?,?,?)\"\n",
    "    l1=[]\n",
    "    for i in range(6,11):\n",
    "        eid=int(input(\"Enter employee id:\"))\n",
    "        ename=input(\"Enter employee name:\")\n",
    "        edept=input(\"Enter employee department:\")\n",
    "        ebasic=int(input(\"Enter employee basic:\"))\n",
    "        ebranch=input(\"Enter employee branch:\")\n",
    "        t=(eid,ename,edept,ebasic,ebranch)\n",
    "        l1.append(t)\n",
    "    cur.executemany(q,l1)\n",
    "    con.commit()"
   ]
  },
  {
   "cell_type": "code",
   "execution_count": 7,
   "id": "c09f9050",
   "metadata": {},
   "outputs": [],
   "source": [
    "def update():\n",
    "    q=(\"UPDATE Employee SET basic = basic * 1.1 WHERE branch = 'Surat' \")\n",
    "    cur.execute(q)\n",
    "    con.commit()"
   ]
  },
  {
   "cell_type": "code",
   "execution_count": 8,
   "id": "d7e2c6a4",
   "metadata": {},
   "outputs": [],
   "source": [
    "def print_record():\n",
    "    q=(\"select * from Employee\")\n",
    "    cur.execute(q)\n",
    "    r=cur.fetchall()\n",
    "    print(\"ALL Records:\")\n",
    "    for i in range(len(r)):\n",
    "        print(r[i])\n",
    "    con.commit()"
   ]
  },
  {
   "cell_type": "code",
   "execution_count": 9,
   "id": "7ad1c28a",
   "metadata": {},
   "outputs": [],
   "source": [
    "def print_record_HR_IT():\n",
    "    q=(\"select * from Employee where dept='HR' OR dept='IT'\")\n",
    "    cur.execute(q)\n",
    "    r=cur.fetchall()\n",
    "    print(\"deprtment is HR and IT:\")\n",
    "    for i in range(len(r)):\n",
    "        print(r[i])\n",
    "    con.commit()"
   ]
  },
  {
   "cell_type": "code",
   "execution_count": 10,
   "id": "76d3a1bd",
   "metadata": {},
   "outputs": [],
   "source": [
    "def print_record_orderby_dept():\n",
    "    q=(\"select * from Employee ORDER BY dept\")\n",
    "    cur.execute(q)\n",
    "    r=cur.fetchall()\n",
    "    print(\"Record ORDER BY DEPT:\")\n",
    "    for i in range(len(r)):\n",
    "        print(r[i])\n",
    "    con.commit()"
   ]
  },
  {
   "cell_type": "code",
   "execution_count": 11,
   "id": "4b48866d",
   "metadata": {},
   "outputs": [],
   "source": [
    "def print_record_basic():\n",
    "    q=(\"select * from Employee where basic>6000\")\n",
    "    cur.execute(q)\n",
    "    r=cur.fetchall()\n",
    "    print(\"Basic>6000:\")\n",
    "    for i in range(len(r)):\n",
    "        print(r[i])\n",
    "    con.commit()"
   ]
  },
  {
   "cell_type": "code",
   "execution_count": 12,
   "id": "27b60b03",
   "metadata": {},
   "outputs": [],
   "source": [
    "def print_record_ename_seccond_char_r():\n",
    "    q=(\"select * from Employee where ename LIKE '_r%'\")\n",
    "    cur.execute(q)\n",
    "    r=cur.fetchall()\n",
    "    print(\"employee name second char is r:\")\n",
    "    for i in range(len(r)):\n",
    "        print(r[i])\n",
    "    con.commit()"
   ]
  },
  {
   "cell_type": "code",
   "execution_count": 13,
   "id": "92d82b95",
   "metadata": {},
   "outputs": [],
   "source": [
    "def grouping():\n",
    "    q=(\"select dept,count(*) from Employee where dept IN('Account','Inventory') GROUP BY dept\")\n",
    "    cur.execute(q)\n",
    "    r=cur.fetchall()\n",
    "    print(\"Grouping:\")\n",
    "    for i in range(len(r)):\n",
    "        print(r[i])\n",
    "    con.commit()"
   ]
  },
  {
   "cell_type": "code",
   "execution_count": 14,
   "id": "c940d369",
   "metadata": {},
   "outputs": [],
   "source": [
    "def branch_descending():\n",
    "    q=(\"select * from Employee ORDER BY branch\")\n",
    "    cur.execute(q)\n",
    "    r=cur.fetchall()\n",
    "    print(\"branch name in descending order:\")\n",
    "    for i in range(len(r)):\n",
    "        print(r[i])\n",
    "    con.commit()"
   ]
  },
  {
   "cell_type": "code",
   "execution_count": 15,
   "id": "c7ea8464",
   "metadata": {},
   "outputs": [],
   "source": [
    "create_table()"
   ]
  },
  {
   "cell_type": "code",
   "execution_count": 16,
   "id": "2713c945",
   "metadata": {},
   "outputs": [],
   "source": [
    "insert_records_directly()"
   ]
  },
  {
   "cell_type": "code",
   "execution_count": 17,
   "id": "c10bcdf4",
   "metadata": {},
   "outputs": [
    {
     "name": "stdout",
     "output_type": "stream",
     "text": [
      "Enter employee id:6\n",
      "Enter employee name:dev\n",
      "Enter employee department:HR\n",
      "Enter employee basic:6600\n",
      "Enter employee branch:ahmadabad\n",
      "Enter employee id:7\n",
      "Enter employee name:bruce\n",
      "Enter employee department:inventory\n",
      "Enter employee basic:5500\n",
      "Enter employee branch:banglore\n",
      "Enter employee id:8\n",
      "Enter employee name:sikhar\n",
      "Enter employee department:IT\n",
      "Enter employee basic:4100\n",
      "Enter employee branch:mumbai\n",
      "Enter employee id:9\n",
      "Enter employee name:sujal\n",
      "Enter employee department:account\n",
      "Enter employee basic:6700\n",
      "Enter employee branch:kamrej\n",
      "Enter employee id:10\n",
      "Enter employee name:ravindra\n",
      "Enter employee department:IT\n",
      "Enter employee basic:7000\n",
      "Enter employee branch:mumbai\n"
     ]
    }
   ],
   "source": [
    "insert_records_user()"
   ]
  },
  {
   "cell_type": "code",
   "execution_count": 18,
   "id": "d3abd7df",
   "metadata": {},
   "outputs": [],
   "source": [
    "update()"
   ]
  },
  {
   "cell_type": "code",
   "execution_count": 19,
   "id": "d269ef9e",
   "metadata": {},
   "outputs": [
    {
     "name": "stdout",
     "output_type": "stream",
     "text": [
      "ALL Records:\n",
      "(1, 'om', ' Account', 5500, 'Surat')\n",
      "(2, 'sai', 'HR', 5600, 'Mumbai')\n",
      "(3, 'ram', 'Account', 6000, 'Bangalore')\n",
      "(4, 'anil', 'IT', 6200, 'Delhi')\n",
      "(5, 'sunil', 'Inventory', 4950, 'Surat')\n",
      "(6, 'dev', 'HR', 6600, 'ahmadabad')\n",
      "(7, 'bruce', 'inventory', 5500, 'banglore')\n",
      "(8, 'sikhar', 'IT', 4100, 'mumbai')\n",
      "(9, 'sujal', 'account', 6700, 'kamrej')\n",
      "(10, 'ravindra', 'IT', 7000, 'mumbai')\n"
     ]
    }
   ],
   "source": [
    "print_record()"
   ]
  },
  {
   "cell_type": "code",
   "execution_count": 20,
   "id": "d7ef1bdc",
   "metadata": {},
   "outputs": [
    {
     "name": "stdout",
     "output_type": "stream",
     "text": [
      "deprtment is HR and IT:\n",
      "(2, 'sai', 'HR', 5600, 'Mumbai')\n",
      "(4, 'anil', 'IT', 6200, 'Delhi')\n",
      "(6, 'dev', 'HR', 6600, 'ahmadabad')\n",
      "(8, 'sikhar', 'IT', 4100, 'mumbai')\n",
      "(10, 'ravindra', 'IT', 7000, 'mumbai')\n"
     ]
    }
   ],
   "source": [
    "print_record_HR_IT()"
   ]
  },
  {
   "cell_type": "code",
   "execution_count": 21,
   "id": "f409e4fb",
   "metadata": {},
   "outputs": [
    {
     "name": "stdout",
     "output_type": "stream",
     "text": [
      "Basic>6000:\n",
      "(4, 'anil', 'IT', 6200, 'Delhi')\n",
      "(6, 'dev', 'HR', 6600, 'ahmadabad')\n",
      "(9, 'sujal', 'account', 6700, 'kamrej')\n",
      "(10, 'ravindra', 'IT', 7000, 'mumbai')\n"
     ]
    }
   ],
   "source": [
    "print_record_basic()"
   ]
  },
  {
   "cell_type": "code",
   "execution_count": 22,
   "id": "3886ae68",
   "metadata": {},
   "outputs": [
    {
     "name": "stdout",
     "output_type": "stream",
     "text": [
      "employee name second char is r:\n",
      "(7, 'bruce', 'inventory', 5500, 'banglore')\n"
     ]
    }
   ],
   "source": [
    "print_record_ename_seccond_char_r()"
   ]
  },
  {
   "cell_type": "code",
   "execution_count": 23,
   "id": "5290d953",
   "metadata": {},
   "outputs": [
    {
     "name": "stdout",
     "output_type": "stream",
     "text": [
      "Grouping:\n",
      "('Account', 1)\n",
      "('Inventory', 1)\n"
     ]
    }
   ],
   "source": [
    "grouping()"
   ]
  },
  {
   "cell_type": "code",
   "execution_count": 24,
   "id": "0bf7bffd",
   "metadata": {},
   "outputs": [
    {
     "name": "stdout",
     "output_type": "stream",
     "text": [
      "branch name in descending order:\n",
      "(3, 'ram', 'Account', 6000, 'Bangalore')\n",
      "(4, 'anil', 'IT', 6200, 'Delhi')\n",
      "(2, 'sai', 'HR', 5600, 'Mumbai')\n",
      "(1, 'om', ' Account', 5500, 'Surat')\n",
      "(5, 'sunil', 'Inventory', 4950, 'Surat')\n",
      "(6, 'dev', 'HR', 6600, 'ahmadabad')\n",
      "(7, 'bruce', 'inventory', 5500, 'banglore')\n",
      "(9, 'sujal', 'account', 6700, 'kamrej')\n",
      "(8, 'sikhar', 'IT', 4100, 'mumbai')\n",
      "(10, 'ravindra', 'IT', 7000, 'mumbai')\n"
     ]
    }
   ],
   "source": [
    "branch_descending()"
   ]
  },
  {
   "cell_type": "code",
   "execution_count": 25,
   "id": "cd09157d",
   "metadata": {},
   "outputs": [],
   "source": [
    "cur.close()"
   ]
  }
 ],
 "metadata": {
  "kernelspec": {
   "display_name": "Python 3 (ipykernel)",
   "language": "python",
   "name": "python3"
  },
  "language_info": {
   "codemirror_mode": {
    "name": "ipython",
    "version": 3
   },
   "file_extension": ".py",
   "mimetype": "text/x-python",
   "name": "python",
   "nbconvert_exporter": "python",
   "pygments_lexer": "ipython3",
   "version": "3.11.4"
  }
 },
 "nbformat": 4,
 "nbformat_minor": 5
}
